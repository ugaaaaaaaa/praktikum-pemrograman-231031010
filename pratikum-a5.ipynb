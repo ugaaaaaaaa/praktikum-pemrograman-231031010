{
 "cells": [
  {
   "cell_type": "code",
   "execution_count": 7,
   "metadata": {},
   "outputs": [
    {
     "name": "stdout",
     "output_type": "stream",
     "text": [
      "\n",
      "Hasil perhitungan nilai luas: 9.0\n",
      "Hasil perhitungan nilai keliling: 12.0\n",
      "sampai jummpa\n"
     ]
    }
   ],
   "source": [
    "from PIL import Image, ImageDraw, ImageFont\n",
    "\n",
    "# Membuat gambar dengan latar belakang putih\n",
    "width, height = 300, 200\n",
    "image = Image.new(\"RGB\", (width, height), \"white\")\n",
    "draw = ImageDraw.Draw(image)\n",
    "\n",
    "# Menggunakan font bawaan (ganti dengan path font jika ingin menggunakan font khusus)\n",
    "font = ImageFont.load_default()\n",
    "\n",
    "# Menambahkan teks \"LOVE\" di tengah gambar\n",
    "text = \"LOVE\"\n",
    "text_width, text_height = draw.textsize(text, font)\n",
    "x = (width - text_width) // 2\n",
    "y = (height - text_height) // 2\n",
    "draw.text((x, y), text, fill=\"red\", font=font)\n",
    "\n",
    "# Menyimpan gambar\n",
    "image.save(\"gambar_love.png\")\n",
    "\n",
    "# Menampilkan gambar (opsional)\n",
    "image.show()"
   ]
  }
 ],
 "metadata": {
  "kernelspec": {
   "display_name": "Python 3",
   "language": "python",
   "name": "python3"
  },
  "language_info": {
   "codemirror_mode": {
    "name": "ipython",
    "version": 3
   },
   "file_extension": ".py",
   "mimetype": "text/x-python",
   "name": "python",
   "nbconvert_exporter": "python",
   "pygments_lexer": "ipython3",
   "version": "3.11.5"
  }
 },
 "nbformat": 4,
 "nbformat_minor": 2
}
